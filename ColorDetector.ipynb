{
 "cells": [
  {
   "cell_type": "markdown",
   "source": [
    "# Color detection in realtime"
   ],
   "metadata": {
    "collapsed": false
   }
  },
  {
   "cell_type": "code",
   "execution_count": 74,
   "metadata": {
    "collapsed": true
   },
   "outputs": [],
   "source": [
    "import pandas as pd\n",
    "import cv2\n"
   ]
  },
  {
   "cell_type": "code",
   "execution_count": 75,
   "outputs": [],
   "source": [
    "img_path = 'data/colorbuilding.jpg'\n",
    "csv_path = 'data/colors.csv'"
   ],
   "metadata": {
    "collapsed": false
   }
  },
  {
   "cell_type": "markdown",
   "source": [
    "## Exploratory Data Analysis"
   ],
   "metadata": {
    "collapsed": false
   }
  },
  {
   "cell_type": "code",
   "execution_count": 76,
   "outputs": [
    {
     "data": {
      "text/plain": "     air_force_blue_raf   Air Force Blue (Raf)  #5d8aa8   93  138  168\n0   air_force_blue_usaf  Air Force Blue (Usaf)  #00308f    0   48  143\n1  air_superiority_blue   Air Superiority Blue  #72a0c1  114  160  193\n2       alabama_crimson        Alabama Crimson  #a32638  163   38   56\n3            alice_blue             Alice Blue  #f0f8ff  240  248  255\n4      alizarin_crimson       Alizarin Crimson  #e32636  227   38   54",
      "text/html": "<div>\n<style scoped>\n    .dataframe tbody tr th:only-of-type {\n        vertical-align: middle;\n    }\n\n    .dataframe tbody tr th {\n        vertical-align: top;\n    }\n\n    .dataframe thead th {\n        text-align: right;\n    }\n</style>\n<table border=\"1\" class=\"dataframe\">\n  <thead>\n    <tr style=\"text-align: right;\">\n      <th></th>\n      <th>air_force_blue_raf</th>\n      <th>Air Force Blue (Raf)</th>\n      <th>#5d8aa8</th>\n      <th>93</th>\n      <th>138</th>\n      <th>168</th>\n    </tr>\n  </thead>\n  <tbody>\n    <tr>\n      <th>0</th>\n      <td>air_force_blue_usaf</td>\n      <td>Air Force Blue (Usaf)</td>\n      <td>#00308f</td>\n      <td>0</td>\n      <td>48</td>\n      <td>143</td>\n    </tr>\n    <tr>\n      <th>1</th>\n      <td>air_superiority_blue</td>\n      <td>Air Superiority Blue</td>\n      <td>#72a0c1</td>\n      <td>114</td>\n      <td>160</td>\n      <td>193</td>\n    </tr>\n    <tr>\n      <th>2</th>\n      <td>alabama_crimson</td>\n      <td>Alabama Crimson</td>\n      <td>#a32638</td>\n      <td>163</td>\n      <td>38</td>\n      <td>56</td>\n    </tr>\n    <tr>\n      <th>3</th>\n      <td>alice_blue</td>\n      <td>Alice Blue</td>\n      <td>#f0f8ff</td>\n      <td>240</td>\n      <td>248</td>\n      <td>255</td>\n    </tr>\n    <tr>\n      <th>4</th>\n      <td>alizarin_crimson</td>\n      <td>Alizarin Crimson</td>\n      <td>#e32636</td>\n      <td>227</td>\n      <td>38</td>\n      <td>54</td>\n    </tr>\n  </tbody>\n</table>\n</div>"
     },
     "execution_count": 76,
     "metadata": {},
     "output_type": "execute_result"
    }
   ],
   "source": [
    "#creating a dataframe to fetch the data\n",
    "df = pd.read_csv(csv_path)\n",
    "df.head()"
   ],
   "metadata": {
    "collapsed": false
   }
  },
  {
   "cell_type": "markdown",
   "source": [
    "Since there is no headers, it shows 6 rows of data."
   ],
   "metadata": {
    "collapsed": false
   }
  },
  {
   "cell_type": "code",
   "execution_count": 77,
   "outputs": [
    {
     "name": "stdout",
     "output_type": "stream",
     "text": [
      "864\n"
     ]
    }
   ],
   "source": [
    "#number of rows\n",
    "rows = len(df.axes[0])\n",
    "print(rows)"
   ],
   "metadata": {
    "collapsed": false
   }
  },
  {
   "cell_type": "code",
   "execution_count": 78,
   "outputs": [
    {
     "data": {
      "text/plain": "                    color             color_name      hex    R    G    B\n0      air_force_blue_raf   Air Force Blue (Raf)  #5d8aa8   93  138  168\n1     air_force_blue_usaf  Air Force Blue (Usaf)  #00308f    0   48  143\n2    air_superiority_blue   Air Superiority Blue  #72a0c1  114  160  193\n3         alabama_crimson        Alabama Crimson  #a32638  163   38   56\n4              alice_blue             Alice Blue  #f0f8ff  240  248  255\n..                    ...                    ...      ...  ...  ...  ...\n860         yellow_orange          Yellow Orange  #ffae42  255  174   66\n861        yellow_process       Yellow (Process)  #ffef00  255  239    0\n862            yellow_ryb           Yellow (Ryb)  #fefe33  254  254   51\n863                zaffre                 Zaffre  #0014a8    0   20  168\n864     zinnwaldite_brown      Zinnwaldite Brown  #2c1608   44   22    8\n\n[865 rows x 6 columns]",
      "text/html": "<div>\n<style scoped>\n    .dataframe tbody tr th:only-of-type {\n        vertical-align: middle;\n    }\n\n    .dataframe tbody tr th {\n        vertical-align: top;\n    }\n\n    .dataframe thead th {\n        text-align: right;\n    }\n</style>\n<table border=\"1\" class=\"dataframe\">\n  <thead>\n    <tr style=\"text-align: right;\">\n      <th></th>\n      <th>color</th>\n      <th>color_name</th>\n      <th>hex</th>\n      <th>R</th>\n      <th>G</th>\n      <th>B</th>\n    </tr>\n  </thead>\n  <tbody>\n    <tr>\n      <th>0</th>\n      <td>air_force_blue_raf</td>\n      <td>Air Force Blue (Raf)</td>\n      <td>#5d8aa8</td>\n      <td>93</td>\n      <td>138</td>\n      <td>168</td>\n    </tr>\n    <tr>\n      <th>1</th>\n      <td>air_force_blue_usaf</td>\n      <td>Air Force Blue (Usaf)</td>\n      <td>#00308f</td>\n      <td>0</td>\n      <td>48</td>\n      <td>143</td>\n    </tr>\n    <tr>\n      <th>2</th>\n      <td>air_superiority_blue</td>\n      <td>Air Superiority Blue</td>\n      <td>#72a0c1</td>\n      <td>114</td>\n      <td>160</td>\n      <td>193</td>\n    </tr>\n    <tr>\n      <th>3</th>\n      <td>alabama_crimson</td>\n      <td>Alabama Crimson</td>\n      <td>#a32638</td>\n      <td>163</td>\n      <td>38</td>\n      <td>56</td>\n    </tr>\n    <tr>\n      <th>4</th>\n      <td>alice_blue</td>\n      <td>Alice Blue</td>\n      <td>#f0f8ff</td>\n      <td>240</td>\n      <td>248</td>\n      <td>255</td>\n    </tr>\n    <tr>\n      <th>...</th>\n      <td>...</td>\n      <td>...</td>\n      <td>...</td>\n      <td>...</td>\n      <td>...</td>\n      <td>...</td>\n    </tr>\n    <tr>\n      <th>860</th>\n      <td>yellow_orange</td>\n      <td>Yellow Orange</td>\n      <td>#ffae42</td>\n      <td>255</td>\n      <td>174</td>\n      <td>66</td>\n    </tr>\n    <tr>\n      <th>861</th>\n      <td>yellow_process</td>\n      <td>Yellow (Process)</td>\n      <td>#ffef00</td>\n      <td>255</td>\n      <td>239</td>\n      <td>0</td>\n    </tr>\n    <tr>\n      <th>862</th>\n      <td>yellow_ryb</td>\n      <td>Yellow (Ryb)</td>\n      <td>#fefe33</td>\n      <td>254</td>\n      <td>254</td>\n      <td>51</td>\n    </tr>\n    <tr>\n      <th>863</th>\n      <td>zaffre</td>\n      <td>Zaffre</td>\n      <td>#0014a8</td>\n      <td>0</td>\n      <td>20</td>\n      <td>168</td>\n    </tr>\n    <tr>\n      <th>864</th>\n      <td>zinnwaldite_brown</td>\n      <td>Zinnwaldite Brown</td>\n      <td>#2c1608</td>\n      <td>44</td>\n      <td>22</td>\n      <td>8</td>\n    </tr>\n  </tbody>\n</table>\n<p>865 rows × 6 columns</p>\n</div>"
     },
     "execution_count": 78,
     "metadata": {},
     "output_type": "execute_result"
    }
   ],
   "source": [
    "#Adding a header\n",
    "index = ['color', 'color_name', 'hex', 'R', 'G', 'B']\n",
    "df = pd.read_csv(csv_path, names = index, header=None)\n",
    "df"
   ],
   "metadata": {
    "collapsed": false
   }
  },
  {
   "cell_type": "code",
   "execution_count": 79,
   "outputs": [
    {
     "name": "stdout",
     "output_type": "stream",
     "text": [
      "color           air_force_blue_usaf\n",
      "color_name    Air Force Blue (Usaf)\n",
      "hex                         #00308f\n",
      "R                                 0\n",
      "G                                48\n",
      "B                               143\n",
      "Name: 1, dtype: object\n"
     ]
    }
   ],
   "source": [
    "#fetching any single row using index\n",
    "print(df.loc[1])"
   ],
   "metadata": {
    "collapsed": false
   }
  },
  {
   "cell_type": "code",
   "execution_count": 80,
   "outputs": [
    {
     "name": "stdout",
     "output_type": "stream",
     "text": [
      "143\n"
     ]
    }
   ],
   "source": [
    "#slicing the rgb values\n",
    "print(df.loc[1,'B'])"
   ],
   "metadata": {
    "collapsed": false
   }
  },
  {
   "cell_type": "markdown",
   "source": [
    "## Reading Image"
   ],
   "metadata": {
    "collapsed": false
   }
  },
  {
   "cell_type": "code",
   "execution_count": 81,
   "outputs": [],
   "source": [
    "#Reading an image\n",
    "img = cv2.imread(img_path)\n",
    "resized = cv2.resize(img,(800,600))\n",
    "# cv2.imshow(\"Image\", resized)\n",
    "# cv2.waitKey(0)"
   ],
   "metadata": {
    "collapsed": false
   }
  },
  {
   "cell_type": "code",
   "execution_count": 82,
   "outputs": [],
   "source": [
    "#Initializing variables\n",
    "clicked = False\n",
    "r = g = b = xpos = ypos = 0\n"
   ],
   "metadata": {
    "collapsed": false
   }
  },
  {
   "cell_type": "markdown",
   "source": [
    "### Fetching the pixel value from the image using mouse click"
   ],
   "metadata": {
    "collapsed": false
   }
  },
  {
   "cell_type": "code",
   "execution_count": 83,
   "outputs": [],
   "source": [
    "#Get color names from the csv file\n",
    "def get_color_name(R, G, B):\n",
    "    min = 1000\n",
    "    for i in range(len(df)):\n",
    "        #To match the color, we take absolute difference of each color channel from image and df.\n",
    "        d = abs(R - int(df.loc[i,'R'])) + abs(G - int(df.loc[i,'G'])) + abs(B-int(df.loc[i,'B']))\n",
    "        if d <= min:\n",
    "            min = d\n",
    "            cname = df.loc[i, 'color_name']\n",
    "    return cname"
   ],
   "metadata": {
    "collapsed": false
   }
  },
  {
   "cell_type": "code",
   "execution_count": 84,
   "outputs": [],
   "source": [
    "def draw_function(event, x, y, flags, params):\n",
    "    if event == cv2.EVENT_LBUTTONDBLCLK:\n",
    "        global clicked, r, g, b, xpos, ypos\n",
    "        clicked = True\n",
    "        xpos = x\n",
    "        ypos = y\n",
    "        #print(x,y)\n",
    "        b, g, r = resized[y,x]\n",
    "        #print(b,g,r)\n",
    "        b = int(b)\n",
    "        g = int(g)\n",
    "        r = int(r)\n",
    "        #print (r, g, b)\n"
   ],
   "metadata": {
    "collapsed": false
   }
  },
  {
   "cell_type": "code",
   "execution_count": 85,
   "outputs": [],
   "source": [
    "\n",
    "# cv2.imshow(\"Image\", resized)\n",
    "# cv2.setMouseCallback(\"Image\", draw_function)\n",
    "# cv2.waitKey(0)"
   ],
   "metadata": {
    "collapsed": false
   }
  },
  {
   "cell_type": "code",
   "execution_count": 86,
   "outputs": [],
   "source": [
    "#Sanity check\n",
    "#print(get_color_name(0,0,0))"
   ],
   "metadata": {
    "collapsed": false
   }
  },
  {
   "cell_type": "markdown",
   "source": [
    "## Displaying Output"
   ],
   "metadata": {
    "collapsed": false
   }
  },
  {
   "cell_type": "code",
   "execution_count": 87,
   "outputs": [],
   "source": [
    "cv2.namedWindow(\"Image\")\n",
    "cv2.setMouseCallback(\"Image\", draw_function)\n",
    "while True:\n",
    "    cv2.imshow(\"Image\", resized)\n",
    "    if clicked:\n",
    "        #print(\"Clicked\")\n",
    "        #Creating a rectangle to show the color clicked on.\n",
    "        cv2.rectangle(resized, (20,20), (600,60), (b,g,r), -1)\n",
    "        text = get_color_name(r, g, b) + '  R=' + str(r) +' G='+ str(g) +' B=' + str(b)\n",
    "        cv2.putText(resized, text, (50,50), 2, 0.8, (255,255,255), 2, cv2.LINE_AA)\n",
    "        #if the color is too light, then writing text in white does not make sense, so\n",
    "        if r+g+b >= 600:\n",
    "            cv2.putText(resized, text, (50,50), 2, 0.8, (0,0,0), 2, cv2.LINE_AA)\n",
    "    if cv2.waitKey(20) & 0xFF == 27:\n",
    "        break\n",
    "cv2.destroyAllWindows()\n"
   ],
   "metadata": {
    "collapsed": false
   }
  },
  {
   "cell_type": "code",
   "execution_count": 87,
   "outputs": [],
   "source": [],
   "metadata": {
    "collapsed": false
   }
  }
 ],
 "metadata": {
  "kernelspec": {
   "name": "portfolio",
   "language": "python",
   "display_name": "portfolio"
  },
  "language_info": {
   "codemirror_mode": {
    "name": "ipython",
    "version": 2
   },
   "file_extension": ".py",
   "mimetype": "text/x-python",
   "name": "python",
   "nbconvert_exporter": "python",
   "pygments_lexer": "ipython2",
   "version": "2.7.6"
  }
 },
 "nbformat": 4,
 "nbformat_minor": 0
}
